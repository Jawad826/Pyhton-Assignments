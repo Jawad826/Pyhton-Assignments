{
 "cells": [
  {
   "cell_type": "code",
   "execution_count": 2,
   "id": "62b02c55",
   "metadata": {},
   "outputs": [
    {
     "name": "stdout",
     "output_type": "stream",
     "text": [
      "Twinkle, Twinkle, little star How I wonder what you are! Up above the world so high Like a diamond in the sky. Twinkle, Twinkle, little star How I wonder what you are!\n"
     ]
    }
   ],
   "source": [
    "a = \"Twinkle, Twinkle, little star\";\n",
    "b = \" How I wonder what you are!\";\n",
    "c = \" Up above the world so high\";\n",
    "d = \" Like a diamond in the sky.\";\n",
    "e = \" Twinkle, Twinkle, little star\";\n",
    "f = \" How I wonder what you are!\";\n",
    "g = a + b + c + d + e + f;\n",
    "print (g)"
   ]
  },
  {
   "cell_type": "code",
   "execution_count": 3,
   "id": "f109c302",
   "metadata": {},
   "outputs": [
    {
     "name": "stdout",
     "output_type": "stream",
     "text": [
      "3.9.7 (default, Sep 16 2021, 16:59:28) [MSC v.1916 64 bit (AMD64)]\n"
     ]
    }
   ],
   "source": [
    "import sys\n",
    "print(sys.version)"
   ]
  },
  {
   "cell_type": "code",
   "execution_count": 4,
   "id": "911c4a0f",
   "metadata": {},
   "outputs": [
    {
     "name": "stdout",
     "output_type": "stream",
     "text": [
      "Current date and time : \n",
      "2022-01-01 20:53:10\n"
     ]
    }
   ],
   "source": [
    "import datetime\n",
    "now = datetime.datetime.now()\n",
    "print (\"Current date and time : \")\n",
    "print (now.strftime(\"%Y-%m-%d %H:%M:%S\"))"
   ]
  },
  {
   "cell_type": "code",
   "execution_count": 5,
   "id": "e636c767",
   "metadata": {},
   "outputs": [
    {
     "name": "stdout",
     "output_type": "stream",
     "text": [
      "Input the radius of the circle : 1.1\n",
      "The area of the circle with radius 1.1 is: 3.8013271108436504\n"
     ]
    }
   ],
   "source": [
    "from math import pi\n",
    "r = float(input (\"Input the radius of the circle : \"))\n",
    "print (\"The area of the circle with radius \" + str(r) + \" is: \" + str(pi * r**2))\n"
   ]
  },
  {
   "cell_type": "code",
   "execution_count": 6,
   "id": "2eed5752",
   "metadata": {},
   "outputs": [
    {
     "name": "stdout",
     "output_type": "stream",
     "text": [
      "Jawad Khan\n"
     ]
    }
   ],
   "source": [
    "fname = \" Khan\";\n",
    "lname = \"Jawad\";\n",
    "x = lname + fname;\n",
    "print (x)"
   ]
  },
  {
   "cell_type": "code",
   "execution_count": 7,
   "id": "773ca41f",
   "metadata": {},
   "outputs": [
    {
     "name": "stdout",
     "output_type": "stream",
     "text": [
      "Jawad Khan\n"
     ]
    }
   ],
   "source": [
    "fname = \" Khan\";\n",
    "lname = \"Jawad\";\n",
    "x = lname + fname;\n",
    "print (x)"
   ]
  },
  {
   "cell_type": "code",
   "execution_count": null,
   "id": "c405cff0",
   "metadata": {},
   "outputs": [],
   "source": []
  }
 ],
 "metadata": {
  "kernelspec": {
   "display_name": "Python 3 (ipykernel)",
   "language": "python",
   "name": "python3"
  },
  "language_info": {
   "codemirror_mode": {
    "name": "ipython",
    "version": 3
   },
   "file_extension": ".py",
   "mimetype": "text/x-python",
   "name": "python",
   "nbconvert_exporter": "python",
   "pygments_lexer": "ipython3",
   "version": "3.9.7"
  }
 },
 "nbformat": 4,
 "nbformat_minor": 5
}
